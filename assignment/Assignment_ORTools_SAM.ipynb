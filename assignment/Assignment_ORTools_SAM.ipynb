{
  "nbformat": 4,
  "nbformat_minor": 0,
  "metadata": {
    "colab": {
      "name": "Assignment_ORTools_SAM.ipynb",
      "provenance": []
    },
    "kernelspec": {
      "name": "python3",
      "display_name": "Python 3"
    }
  },
  "cells": [
    {
      "cell_type": "markdown",
      "metadata": {
        "id": "7JGpAPCMKctY",
        "colab_type": "text"
      },
      "source": [
        "# Optimization: Assignment Problem\n",
        "\n",
        "The aim of this notebook is to follow the process of solving a standard assignment problem, which may be performed using different optimization approaches, namely:\n",
        "\n",
        "- Minimum-Cost Flow\n",
        "- Mixed Integer Programming\n",
        "- Constraint Pogramming\n",
        "\n",
        "For the sake of this example, MIP will be used despite its low time-efficiency vs MCF.\n",
        "\n",
        "\n",
        "Created by *Sebastián Arango*"
      ]
    },
    {
      "cell_type": "markdown",
      "metadata": {
        "id": "boixpzERT0Vt",
        "colab_type": "text"
      },
      "source": [
        "### Problem Formulation"
      ]
    },
    {
      "cell_type": "code",
      "metadata": {
        "id": "rBNdLCCmEOtC",
        "colab_type": "code",
        "colab": {
          "base_uri": "https://localhost:8080/",
          "height": 85
        },
        "outputId": "9bdad3c6-9f60-4379-ddad-b14e766b470a"
      },
      "source": [
        "!pip install --upgrade --user ortools"
      ],
      "execution_count": 1,
      "outputs": [
        {
          "output_type": "stream",
          "text": [
            "Requirement already up-to-date: ortools in /root/.local/lib/python3.6/site-packages (7.6.7691)\n",
            "Requirement already satisfied, skipping upgrade: protobuf>=3.11.2 in /root/.local/lib/python3.6/site-packages (from ortools) (3.11.3)\n",
            "Requirement already satisfied, skipping upgrade: six>=1.10 in /usr/local/lib/python3.6/dist-packages (from ortools) (1.12.0)\n",
            "Requirement already satisfied, skipping upgrade: setuptools in /usr/local/lib/python3.6/dist-packages (from protobuf>=3.11.2->ortools) (46.1.3)\n"
          ],
          "name": "stdout"
        }
      ]
    },
    {
      "cell_type": "code",
      "metadata": {
        "id": "_RgQT85GULFI",
        "colab_type": "code",
        "colab": {}
      },
      "source": [
        "import numpy as np\n",
        "import pandas as pd\n",
        "\n",
        "from google.colab import files\n",
        "from datetime import datetime\n",
        "from __future__ import print_function\n",
        "from ortools.linear_solver import pywraplp"
      ],
      "execution_count": 0,
      "outputs": []
    },
    {
      "cell_type": "markdown",
      "metadata": {
        "id": "BdfgSpKXRh3c",
        "colab_type": "text"
      },
      "source": [
        "**Problem statement:**\n",
        "\n",
        "Having, for instance, a set of tasks $T$ to be performed by a group of workers $W$, the problem is to assign each worker $w$ to a distinct task $t$ so as to minimize the total cost of performance. In order to generalize the problem, workers can be grouped into teams $G$ with tasks distributed among them."
      ]
    },
    {
      "cell_type": "markdown",
      "metadata": {
        "id": "HCgjzqzFWzLs",
        "colab_type": "text"
      },
      "source": [
        "**Objetive Function**\n",
        "\n",
        "$$\\min \\ TotalCost = \\sum_{w \\in W} \\sum_{t \\in T} Cost_{wt} \\cdot Assign_{wt} $$"
      ]
    },
    {
      "cell_type": "markdown",
      "metadata": {
        "id": "Z4_92rzcZncf",
        "colab_type": "text"
      },
      "source": [
        "**Constraint:** Each worker $ w $ is assigned to at most one task $t$.\n",
        "\n",
        "$$\\sum_{t \\in T} Assign_{wt} \\le 1, \\forall w$$"
      ]
    },
    {
      "cell_type": "markdown",
      "metadata": {
        "id": "2SzCVgKaeE_P",
        "colab_type": "text"
      },
      "source": [
        "**Constraint:** Each task $t$ is assigned to exactly one worker $w$.\n",
        "\n",
        "$$\\sum_{w \\in W} Assign_{wt} = 1, \\forall t$$\n",
        "\n"
      ]
    },
    {
      "cell_type": "markdown",
      "metadata": {
        "id": "ZmIZycgbg81M",
        "colab_type": "text"
      },
      "source": [
        "**Constraint:** All tasks $t$ are equally distributed among each team $g \\in G$.\n",
        "\n",
        "$$\\sum_{w \\in g} Assign_{wt} = \\frac { \\sum_{t \\in T} t } { \\sum_{g \\in G} g }, \\forall g \\in G$$"
      ]
    },
    {
      "cell_type": "markdown",
      "metadata": {
        "id": "O_dD11kWT8AJ",
        "colab_type": "text"
      },
      "source": [
        "## Mixed-Integer Programming"
      ]
    },
    {
      "cell_type": "code",
      "metadata": {
        "id": "A9k-tA0vBkrj",
        "colab_type": "code",
        "colab": {
          "base_uri": "https://localhost:8080/",
          "height": 187
        },
        "outputId": "33b9159a-c811-464d-cf5c-a9a9a06e96d2"
      },
      "source": [
        "# Define a cost matrix with w workers and t tasks\n",
        "\n",
        "num_workers = 10\n",
        "num_tasks = 8\n",
        "num_teams = 2\n",
        "\n",
        "team_1 = [w for w in range(num_workers) if w%2 != 0] # [1, 3, 5, 7, 9]\n",
        "team_2 = [w for w in range(num_workers) if w%2 == 0] # [0, 2, 4, 6, 8]\n",
        "\n",
        "# Create random cost matrix\n",
        "cost_matrix = np.random.randint(100, size=(num_workers, num_tasks))\n",
        "\n",
        "cost_matrix"
      ],
      "execution_count": 3,
      "outputs": [
        {
          "output_type": "execute_result",
          "data": {
            "text/plain": [
              "array([[63, 79, 56, 52, 61, 64, 32, 11],\n",
              "       [84, 62, 77, 21, 82, 70, 13, 30],\n",
              "       [79, 22, 18, 65, 59, 14, 91, 86],\n",
              "       [ 2, 35, 44, 17, 63, 77, 84, 47],\n",
              "       [73, 29, 19, 94, 34, 93, 64, 91],\n",
              "       [59, 16, 40, 79, 10, 17, 41, 95],\n",
              "       [60, 62, 36, 81,  2, 76, 37, 90],\n",
              "       [56,  4, 50, 23, 28, 31, 81, 70],\n",
              "       [ 1, 87, 65, 20, 52, 12, 95, 78],\n",
              "       [ 1, 98, 77, 66, 43, 98, 55, 52]])"
            ]
          },
          "metadata": {
            "tags": []
          },
          "execution_count": 3
        }
      ]
    },
    {
      "cell_type": "code",
      "metadata": {
        "id": "PzKResW2KWcT",
        "colab_type": "code",
        "colab": {}
      },
      "source": [
        "# Define the MIP solver\n",
        "\n",
        "solver = pywraplp.Solver('Assignment-MIP',\n",
        "                          pywraplp.Solver.CBC_MIXED_INTEGER_PROGRAMMING)\n"
      ],
      "execution_count": 0,
      "outputs": []
    },
    {
      "cell_type": "code",
      "metadata": {
        "id": "Mwy2xwGmLmpX",
        "colab_type": "code",
        "colab": {}
      },
      "source": [
        "# Create the assignment matrix. Each key is a (worker, task) pair.\n",
        "\n",
        "assign = {}\n",
        "\n",
        "for w in range(num_workers):\n",
        "  for t in range(num_tasks):\n",
        "    assign[w, t] = solver.BoolVar('assign[%i,%i]' % (w, t))\n"
      ],
      "execution_count": 0,
      "outputs": []
    },
    {
      "cell_type": "code",
      "metadata": {
        "id": "6xPT1A6iLtFp",
        "colab_type": "code",
        "colab": {}
      },
      "source": [
        "# Objective Function\n",
        "\n",
        "solver.Minimize(solver.Sum([cost_matrix[w][t] * assign[w,t] for w in range(num_workers)\n",
        "                                                for t in range(num_tasks)]))\n"
      ],
      "execution_count": 0,
      "outputs": []
    },
    {
      "cell_type": "code",
      "metadata": {
        "id": "fIqMKD_YLyRw",
        "colab_type": "code",
        "colab": {
          "base_uri": "https://localhost:8080/",
          "height": 34
        },
        "outputId": "3eb5f782-581f-4311-cc45-6564f9ea2f9b"
      },
      "source": [
        "# Constraints\n",
        "\n",
        "# Each worker is assigned to at most 1 task.\n",
        "\n",
        "for w in range(num_workers):\n",
        "  solver.Add(solver.Sum([assign[w, t] for t in range(num_tasks)]) <= 1)\n",
        "\n",
        "# Each task is assigned to exactly one worker.\n",
        "\n",
        "for t in range(num_tasks):\n",
        "  solver.Add(solver.Sum([assign[w, t] for w in range(num_workers)]) == 1)\n",
        "\n",
        "# Each team takes on the same amount of tasks.\n",
        "\n",
        "solver.Add(solver.Sum([assign[w, t] for w in team_1 for t in range(num_tasks)]) <= num_tasks/num_teams)\n",
        "solver.Add(solver.Sum([assign[w, t] for w in team_2 for t in range(num_tasks)]) <= num_tasks/num_teams)\n"
      ],
      "execution_count": 7,
      "outputs": [
        {
          "output_type": "execute_result",
          "data": {
            "text/plain": [
              "<ortools.linear_solver.pywraplp.Constraint; proxy of <Swig Object of type 'operations_research::MPConstraint *' at 0x7fe8c56c39c0> >"
            ]
          },
          "metadata": {
            "tags": []
          },
          "execution_count": 7
        }
      ]
    },
    {
      "cell_type": "code",
      "metadata": {
        "id": "D8KSd36fL2_l",
        "colab_type": "code",
        "colab": {
          "base_uri": "https://localhost:8080/",
          "height": 238
        },
        "outputId": "2e808685-2d2d-47d1-c0d8-5160863082b6"
      },
      "source": [
        "# Solve problem and report results\n",
        "\n",
        "result = solver.Solve()\n",
        "\n",
        "print(\"Elapsed time = \", solver.WallTime(), \" ms\")\n",
        "print(\"Number of variables: \", solver.NumVariables())\n",
        "print(\"Is feasible:\", bool(solver.FEASIBLE))\n",
        "\n",
        "if result == pywraplp.Solver.OPTIMAL:\n",
        "    print('Optimal cost: ', solver.Objective().Value())\n",
        "else:\n",
        "    print('The problem does not have an optimal solution')\n",
        "\n",
        "print('Total cost: ', solver.Objective().Value())\n",
        "for w in range(num_workers):\n",
        "  for t in range(num_tasks):\n",
        "    if assign[w, t].solution_value() > 0:\n",
        "      print('Worker %d --> Task %d @ Cost: %d' % (w, t, cost_matrix[w][t]))\n"
      ],
      "execution_count": 8,
      "outputs": [
        {
          "output_type": "stream",
          "text": [
            "Elapsed time =  72  ms\n",
            "Number of variables:  80\n",
            "Is feasible: True\n",
            "Optimal cost:  78.0\n",
            "Total cost:  78.0\n",
            "Worker 0 --> Task 7 @ Cost: 11\n",
            "Worker 1 --> Task 6 @ Cost: 13\n",
            "Worker 2 --> Task 2 @ Cost: 18\n",
            "Worker 3 --> Task 3 @ Cost: 17\n",
            "Worker 6 --> Task 4 @ Cost: 2\n",
            "Worker 7 --> Task 1 @ Cost: 4\n",
            "Worker 8 --> Task 5 @ Cost: 12\n",
            "Worker 9 --> Task 0 @ Cost: 1\n"
          ],
          "name": "stdout"
        }
      ]
    },
    {
      "cell_type": "markdown",
      "metadata": {
        "id": "SbYTzr1qQt3F",
        "colab_type": "text"
      },
      "source": [
        "### Model saving"
      ]
    },
    {
      "cell_type": "code",
      "metadata": {
        "id": "owHewEaIQqV4",
        "colab_type": "code",
        "colab": {}
      },
      "source": [
        "def download_solver_as_mps(model):\n",
        "\n",
        "  mps_text = model.ExportModelAsMpsFormat(True, False)\n",
        "\n",
        "  created_time = datetime.now()\n",
        "  filename = 'FSSP_{}.mps'.format(created_time)\n",
        "\n",
        "  with open(filename, 'w') as file:\n",
        "    file.write(mps_text)\n",
        "    \n",
        "  files.download(filename)\n",
        "\n",
        "  return filename"
      ],
      "execution_count": 0,
      "outputs": []
    },
    {
      "cell_type": "code",
      "metadata": {
        "id": "Uu5C24fbQsLa",
        "colab_type": "code",
        "colab": {}
      },
      "source": [
        "def download_solver_as_lp(model):\n",
        "\n",
        "  mps_text = model.ExportModelAsLpFormat(False)\n",
        "\n",
        "  created_time = datetime.now()\n",
        "  filename = 'FSSP_{}.lp'.format(created_time)\n",
        "\n",
        "  with open(filename, 'w') as file:\n",
        "    file.write(mps_text)\n",
        "    \n",
        "  files.download(filename)\n",
        "\n",
        "  return filename"
      ],
      "execution_count": 0,
      "outputs": []
    }
  ]
}